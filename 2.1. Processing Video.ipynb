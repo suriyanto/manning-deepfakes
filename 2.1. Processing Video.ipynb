{
 "cells": [
  {
   "cell_type": "code",
   "execution_count": null,
   "id": "bb443608",
   "metadata": {},
   "outputs": [],
   "source": [
    "import cv2\n",
    "import numpy as np\n",
    "import glob"
   ]
  },
  {
   "cell_type": "markdown",
   "id": "dc95bf81",
   "metadata": {},
   "source": [
    "# Utility function to save all the frames as jpg to disk"
   ]
  },
  {
   "cell_type": "code",
   "execution_count": null,
   "id": "4dab517f",
   "metadata": {},
   "outputs": [],
   "source": [
    "def save_frames(file, frame_pref):\n",
    "    cap = cv2.VideoCapture(file)\n",
    "\n",
    "    if (cap.isOpened() == False):\n",
    "        print('Error opening file')\n",
    "        return\n",
    "\n",
    "    i, ret = 0, True\n",
    "    while (ret):\n",
    "        ret, frame = cap.read()\n",
    "\n",
    "        if ret == True:\n",
    "            i = i + 1\n",
    "            cv2.imwrite(f'./{frame_pref}{i}.jpg', frame)\n",
    "        \n",
    "    print(f'Written: {i} files of prefix {frame_pref}')\n",
    "    cap.release()\n",
    "    cv2.destroyAllWindows()"
   ]
  },
  {
   "cell_type": "markdown",
   "id": "7f05b095",
   "metadata": {},
   "source": [
    "# List and print all the avi files"
   ]
  },
  {
   "cell_type": "code",
   "execution_count": null,
   "id": "087bd4c9",
   "metadata": {
    "scrolled": false
   },
   "outputs": [],
   "source": [
    "for fp in glob.iglob(r'./DeepfakeTIMIT/higher_quality/**/*.avi', recursive=True):\n",
    "  print(fp)"
   ]
  },
  {
   "cell_type": "markdown",
   "id": "23f489a6",
   "metadata": {},
   "source": [
    "# Save one of the videos as jpg files utilizing the save_frames function"
   ]
  },
  {
   "cell_type": "code",
   "execution_count": null,
   "id": "768ba0c5",
   "metadata": {},
   "outputs": [],
   "source": [
    "save_frames('./DeepfakeTIMIT/higher_quality/mrjo0/sx374-video-mstk0.avi', 'fake_pic')"
   ]
  },
  {
   "cell_type": "code",
   "execution_count": null,
   "id": "64554d5c",
   "metadata": {},
   "outputs": [],
   "source": [
    "save_frames('./VidTIMIT/mrjo0/sx374.avi', 'real_pic')"
   ]
  },
  {
   "cell_type": "code",
   "execution_count": null,
   "id": "80aaa050",
   "metadata": {},
   "outputs": [],
   "source": []
  },
  {
   "cell_type": "code",
   "execution_count": null,
   "id": "c905e34c",
   "metadata": {},
   "outputs": [],
   "source": [
    "print('a')"
   ]
  },
  {
   "cell_type": "code",
   "execution_count": null,
   "id": "58716bdc",
   "metadata": {},
   "outputs": [],
   "source": []
  }
 ],
 "metadata": {
  "kernelspec": {
   "display_name": "Python 3",
   "language": "python",
   "name": "python3"
  },
  "language_info": {
   "codemirror_mode": {
    "name": "ipython",
    "version": 3
   },
   "file_extension": ".py",
   "mimetype": "text/x-python",
   "name": "python",
   "nbconvert_exporter": "python",
   "pygments_lexer": "ipython3",
   "version": "3.8.2"
  }
 },
 "nbformat": 4,
 "nbformat_minor": 5
}
